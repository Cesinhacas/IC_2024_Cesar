{
 "cells": [
  {
   "cell_type": "code",
   "execution_count": 43,
   "metadata": {},
   "outputs": [],
   "source": [
    "import numpy as np\n",
    "import pandas as pd"
   ]
  },
  {
   "cell_type": "code",
   "execution_count": 44,
   "metadata": {},
   "outputs": [],
   "source": [
    "dados = pd.read_excel('C:/Users/LabT5/Desktop/Cesar/IC_2024_Cesar/Dados/Dados_Corrompidos.xlsx')\n",
    "mx = dados.iloc[0].values\n",
    "my = dados.iloc[1].values\n",
    "mz = dados.iloc[2].values\n",
    "tam = range(len(mx))\n",
    "\n",
    "passo = 0\n",
    "loop = 1\n",
    "p0 = [1, 1, 1, 0, 0, 0, 0, 0, 0]\n",
    "f = mx.copy()\n",
    "h1 = mx.copy()\n",
    "h2 = mx.copy()\n",
    "h3 = mx.copy()\n",
    "h4 = mx.copy()\n",
    "h5 = mx.copy()\n",
    "h6 = mx.copy()\n",
    "h7 = mx.copy()\n",
    "h8 = mx.copy()\n",
    "h9 = mx.copy()\n",
    "Be = np.ones(len(mx))\n",
    "Be = list(map(lambda x: x**2, Be))\n",
    "e = Be\n",
    "error_vet = mx.copy()\n"
   ]
  },
  {
   "cell_type": "code",
   "execution_count": 45,
   "metadata": {},
   "outputs": [],
   "source": [
    "while loop == 1:\n",
    "\n",
    "    sx = p0[0]\n",
    "    sy = p0[1]\n",
    "    sz = p0[2]\n",
    "    bx = p0[3]\n",
    "    by = p0[4]\n",
    "    bz = p0[5]\n",
    "    rho = p0[6]\n",
    "    phi = p0[7]\n",
    "    lambida = p0[8]\n",
    "    for i in tam:\n",
    "        f[i] = (((mx[i]-bx)**2)/(sx)**2) + (((sx*(my[i]-by) - sy*np.sin(rho)*(mx[i]-bx))**2)/((sx*sy*np.cos(rho))**2)) + (((sx*sy*np.cos(rho)*(mz[i]-bz) - sx*sz*np.sin(lambida)*(my[i]-by) + sy*sz*(np.sin(lambida)*np.sin(rho) - np.cos(rho)*np.sin(phi)*np.cos(lambida))*(mx[i]-bx))**2)/((sx*sy*sz*np.cos(rho)*np.cos(phi)*np.cos(lambida))**2))\n",
    "    \n",
    "    \n",
    "    e = Be - f\n",
    "    \n",
    "    J = (e.transpose()@e)\n",
    "    J = J*0.5\n",
    "    \n",
    "   \n",
    "    e_std = (2*J*(1/len(e)))**0.5\n",
    "    \n",
    "    if passo < 3:\n",
    "        error_vet[passo] = J\n",
    "    else:\n",
    "        error_vet[passo] = J\n",
    "        delta_J = 100*np.abs(error_vet[passo]-error_vet[passo-1])/error_vet[passo]\n",
    "        if delta_J < 0.1:\n",
    "            loop = 0\n",
    "\n",
    "    for i in tam:\n",
    "        h1[i] = (2*(sx*(by - my[i]) - sy*np.sin(rho)*(bx - mx[i]))*(by - my[i]))/(sx**2*sy**2*np.cos(rho)**2) - (2*(sx*(by - my[i]) - sy*np.sin(rho)*(bx - mx[i]))**2)/(sx**3*sy**2*np.cos(rho)**2) - (2*(bx - mx[i])**2)/sx**3 - (2*(sy*sz*(np.sin(lambida)*np.sin(rho) - np.cos(lambida)*np.cos(rho)*np.sin(phi))*(bx - mx[i]) + sx*sy*np.cos(rho)*(bz - mz[i]) - sx*sz*np.sin(lambida)*(by - my[i]))**2)/(sx**3*sy**2*sz**2*np.cos(lambida)**2*np.cos(phi)**2*np.cos(rho)**2) + (2*(sy*np.cos(rho)*(bz - mz[i]) - sz*np.sin(lambida)*(by - my[i]))*(sy*sz*(np.sin(lambida)*np.sin(rho) - np.cos(lambida)*np.cos(rho)*np.sin(phi))*(bx - mx[i]) + sx*sy*np.cos(rho)*(bz - mz[i]) - sx*sz*np.sin(lambida)*(by - my[i])))/(sx**2*sy**2*sz**2*np.cos(lambida)**2*np.cos(phi)**2*np.cos(rho)**2)\n",
    "    \n",
    "        h2[i] = -(2*(by - my[i])*(by*sx*sz*np.sin(lambida)**2 - my[i]*sx*sz*np.sin(lambida)**2 + by*sx*sz*np.cos(lambida)**2*np.cos(phi)**2 - my[i]*sx*sz*np.cos(lambida)**2*np.cos(phi)**2 - bz*sx*sy*np.cos(rho)*np.sin(lambida) + mz[i]*sx*sy*np.cos(rho)*np.sin(lambida) - bx*sy*sz*np.sin(lambida)**2*np.sin(rho) + mx[i]*sy*sz*np.sin(lambida)**2*np.sin(rho) - bx*sy*sz*np.cos(lambida)**2*np.cos(phi)**2*np.sin(rho) + mx[i]*sy*sz*np.cos(lambida)**2*np.cos(phi)**2*np.sin(rho) + bx*sy*sz*np.cos(lambida)*np.cos(rho)*np.sin(lambida)*np.sin(phi) - mx[i]*sy*sz*np.cos(lambida)*np.cos(rho)*np.sin(lambida)*np.sin(phi)))/(sx*sy**3*sz*np.cos(lambida)**2*np.cos(phi)**2*np.cos(rho)**2)\n",
    "    \n",
    "        h3[i] = -(2*(bz - mz[i])*(bz*sx*sy*np.cos(rho) - by*sx*sz*np.sin(lambida) - mz[i]*sx*sy*np.cos(rho) + my[i]*sx*sz*np.sin(lambida) + bx*sy*sz*np.sin(lambida)*np.sin(rho) - mx[i]*sy*sz*np.sin(lambida)*np.sin(rho) - bx*sy*sz*np.cos(lambida)*np.cos(rho)*np.sin(phi) + mx[i]*sy*sz*np.cos(lambida)*np.cos(rho)*np.sin(phi)))/(sx*sy*sz**3*np.cos(lambida)**2*np.cos(phi)**2*np.cos(rho))\n",
    "    \n",
    "        h4[i] = (2*bx - 2*mx[i])/sx**2 - (2*np.sin(rho)*(sx*(by - my[i]) - sy*np.sin(rho)*(bx - mx[i])))/(sx**2*sy*np.cos(rho)**2) + (2*(np.sin(lambida)*np.sin(rho) - np.cos(lambida)*np.cos(rho)*np.sin(phi))*(sy*sz*(np.sin(lambida)*np.sin(rho) - np.cos(lambida)*np.cos(rho)*np.sin(phi))*(bx - mx[i]) + sx*sy*np.cos(rho)*(bz - mz[i]) - sx*sz*np.sin(lambida)*(by - my[i])))/(sx**2*sy*sz*np.cos(lambida)**2*np.cos(phi)**2*np.cos(rho)**2)\n",
    "    \n",
    "        h5[i] = (2*(sx*(by - my[i]) - sy*np.sin(rho)*(bx - mx[i])))/(sx*sy**2*np.cos(rho)**2) - (2*np.sin(lambida)*(sy*sz*(np.sin(lambida)*np.sin(rho) - np.cos(lambida)*np.cos(rho)*np.sin(phi))*(bx - mx[i]) + sx*sy*np.cos(rho)*(bz - mz[i]) - sx*sz*np.sin(lambida)*(by - my[i])))/(sx*sy**2*sz*np.cos(lambida)**2*np.cos(phi)**2*np.cos(rho)**2)\n",
    "\n",
    "        h6[i] = (2*(sy*sz*(np.sin(lambida)*np.sin(rho) - np.cos(lambida)*np.cos(rho)*np.sin(phi))*(bx - mx[i]) + sx*sy*np.cos(rho)*(bz - mz[i]) - sx*sz*np.sin(lambida)*(by - my[i])))/(sx*sy*sz**2*np.cos(lambida)**2*np.cos(phi)**2*np.cos(rho))\n",
    "\n",
    "        h7[i] = -(2.*(bx*sy - mx[i]*sy - by*sx*np.sin(rho) + my[i]*sx*np.sin(rho))*(by*sx*sz*np.sin(lambida)**2 - my[i]*sx*sz*np.sin(lambida)**2 + by*sx*sz*np.cos(lambida)**2*np.cos(phi)**2 - my[i]*sx*sz*np.cos(lambida)**2*np.cos(phi)**2 - bz*sx*sy*np.cos(rho)*np.sin(lambida) + mz[i]*sx*sy*np.cos(rho)*np.sin(lambida) - bx*sy*sz*np.sin(lambida)**2*np.sin(rho) + mx[i]*sy*sz*np.sin(lambida)**2*np.sin(rho) - bx*sy*sz*np.cos(lambida)**2*np.cos(phi)**2*np.sin(rho) + mx[i]*sy*sz*np.cos(lambida)**2*np.cos(phi)**2*np.sin(rho) + bx*sy*sz*np.cos(lambida)*np.cos(rho)*np.sin(lambida)*np.sin(phi) - mx[i]*sy*sz*np.cos(lambida)*np.cos(rho)*np.sin(lambida)*np.sin(phi)))/(sx**2*sy**2*sz*np.cos(lambida)**2*np.cos(phi)**2*np.cos(rho)**3)\n",
    "\n",
    "        h8[i] = (2*np.sin(phi)*(sy*sz*(np.sin(lambida)*np.sin(rho) - np.cos(lambida)*np.cos(rho)*np.sin(phi))*(bx - mx[i]) + sx*sy*np.cos(rho)*(bz - mz[i]) - sx*sz*np.sin(lambida)*(by - my[i]))**2)/(sx**2*sy**2*sz**2*np.cos(lambida)**2*np.cos(phi)**3*np.cos(rho)**2) - (2*(bx - mx[i])*(sy*sz*(np.sin(lambida)*np.sin(rho) - np.cos(lambida)*np.cos(rho)*np.sin(phi))*(bx - mx[i]) + sx*sy*np.cos(rho)*(bz - mz[i]) - sx*sz*np.sin(lambida)*(by - my[i])))/(sx**2*sy*sz*np.cos(lambida)*np.cos(phi)*np.cos(rho))\n",
    "\n",
    "        h9[i] = (2*np.sin(lambida)*(sy*sz*(np.sin(lambida)*np.sin(rho) - np.cos(lambida)*np.cos(rho)*np.sin(phi))*(bx - mx[i]) + sx*sy*np.cos(rho)*(bz - mz[i]) - sx*sz*np.sin(lambida)*(by - my[i]))**2)/(sx**2*sy**2*sz**2*np.cos(lambida)**3*np.cos(phi)**2*np.cos(rho)**2) + (2*(sy*sz*(np.cos(lambida)*np.sin(rho) + np.cos(rho)*np.sin(lambida)*np.sin(phi))*(bx - mx[i]) - sx*sz*np.cos(lambida)*(by - my[i]))*(sy*sz*(np.sin(lambida)*np.sin(rho) - np.cos(lambida)*np.cos(rho)*np.sin(phi))*(bx - mx[i]) + sx*sy*np.cos(rho)*(bz - mz[i]) - sx*sz*np.sin(lambida)*(by - my[i])))/(sx**2*sy**2*sz**2*np.cos(lambida)**2*np.cos(phi)**2*np.cos(rho)**2)\n",
    "\n",
    "    H_t = np.array([h1, h2, h3, h4, h5, h6, h7, h8, h9])\n",
    "    H = H_t.transpose()\n",
    "\n",
    "    deltap = np.linalg.pinv(H)\n",
    "    deltap = deltap @ e\n",
    "\n",
    "    p0 = p0 + deltap\n",
    "\n",
    "    passo += 1\n",
    "\n",
    "sx = p0[0]\n",
    "sy = p0[1]\n",
    "sz = p0[2]\n",
    "bx = p0[3]\n",
    "by = p0[4]\n",
    "bz = p0[5]\n",
    "rho = p0[6]\n",
    "phi = p0[7]\n",
    "lambida = p0[8]\n",
    "P = e_std*np.linalg.inv(H.transpose()@H)"
   ]
  },
  {
   "cell_type": "code",
   "execution_count": 51,
   "metadata": {},
   "outputs": [
    {
     "name": "stdout",
     "output_type": "stream",
     "text": [
      "Os fatores de escala são:\n",
      "0.7604200584460409 Para sx\n",
      "1.0993684238029695 Para sy\n",
      "0.9100123450729262 Para sz\n"
     ]
    }
   ],
   "source": [
    "print(\"Os fatores de escala são:\")\n",
    "print(p0[0], \"Para sx\")\n",
    "print(p0[1], \"Para sy\")\n",
    "print(p0[2], \"Para sz\")"
   ]
  },
  {
   "cell_type": "code",
   "execution_count": 52,
   "metadata": {},
   "outputs": [
    {
     "name": "stdout",
     "output_type": "stream",
     "text": [
      "Os offsets são:\n",
      "0.10042948638338814 Para x\n",
      "-0.09976420064234517 Para y\n",
      "0.09994150923137539 Para z\n"
     ]
    }
   ],
   "source": [
    "print(\"Os offsets são:\")\n",
    "print(p0[3], \"Para x\")\n",
    "print(p0[4], \"Para y\")\n",
    "print(p0[5], \"Para z\")"
   ]
  },
  {
   "cell_type": "code",
   "execution_count": 53,
   "metadata": {},
   "outputs": [
    {
     "name": "stdout",
     "output_type": "stream",
     "text": [
      "Os ângulos são:\n",
      "0.040748847296190306 Para Rho\n",
      "-0.021608451959379094 Para Phi\n",
      "-0.03461274448201544 Para Lambda\n"
     ]
    }
   ],
   "source": [
    "print(\"Os ângulos são:\")\n",
    "print(p0[6], \"Para Rho\")\n",
    "print(p0[7], \"Para Phi\")\n",
    "print(p0[8], \"Para Lambda\")"
   ]
  }
 ],
 "metadata": {
  "kernelspec": {
   "display_name": "Python 3",
   "language": "python",
   "name": "python3"
  },
  "language_info": {
   "codemirror_mode": {
    "name": "ipython",
    "version": 3
   },
   "file_extension": ".py",
   "mimetype": "text/x-python",
   "name": "python",
   "nbconvert_exporter": "python",
   "pygments_lexer": "ipython3",
   "version": "3.12.4"
  }
 },
 "nbformat": 4,
 "nbformat_minor": 2
}
