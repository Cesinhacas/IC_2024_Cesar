{
 "cells": [
  {
   "cell_type": "code",
   "execution_count": 1,
   "metadata": {},
   "outputs": [],
   "source": [
    "import numpy as np\n",
    "import pandas as pd"
   ]
  },
  {
   "cell_type": "code",
   "execution_count": 35,
   "metadata": {},
   "outputs": [],
   "source": [
    "dados = pd.read_excel('C:/Users/LabT5/Desktop/Cesar/IC_2024_Cesar/Dados/Dados_Corrompidos.xlsx')\n",
    "mx = dados.iloc[0].values\n",
    "my = dados.iloc[1].values\n",
    "mz = dados.iloc[2].values\n",
    "\n",
    "mxs = mx.copy()\n",
    "mys = my.copy()\n",
    "mzs = mz.copy()\n",
    "\n",
    "vet = mx.copy()\n",
    "mxy = mx.copy()\n",
    "mxz = mx.copy()\n",
    "myz = my.copy()\n",
    "\n",
    "tam = range(len(my))\n",
    "\n",
    "\n",
    "for i, value in enumerate(my):\n",
    "    mys[i] = -(value**2)\n",
    "    \n",
    "\n",
    "for i, value in enumerate(mx):\n",
    "    mxs[i] = value**2\n",
    "\n",
    "\n",
    "for i in tam:\n",
    "    mxy[i] = mx[i]*my[i]\n",
    "\n",
    "    mxz[i] = mx[i]*mz[i]\n",
    "\n",
    "    myz[i] = my[i]*mz[i]\n",
    "\n",
    "    vet[i] = 1\n",
    "\n",
    "for i, value in enumerate(mz):\n",
    "    mzs[i] = value**2"
   ]
  },
  {
   "cell_type": "code",
   "execution_count": null,
   "metadata": {},
   "outputs": [],
   "source": [
    "mat_H_t = np.array([mxs, mxy, mxz, myz, mzs, mx, my, mz, vet])\n",
    "mat_H = mat_H_t.transpose()"
   ]
  },
  {
   "cell_type": "code",
   "execution_count": null,
   "metadata": {},
   "outputs": [
    {
     "name": "stdout",
     "output_type": "stream",
     "text": [
      "[ 2.08504229 -0.12169874  0.07033229  0.08481389  1.45486623 -0.43494156\n",
      "  0.20262269 -0.28905874 -1.15811822]\n"
     ]
    }
   ],
   "source": [
    "# Pseudo-inversa\n",
    "vet_X = np.linalg.pinv(mat_H)\n",
    "vet_X = vet_X @ mys"
   ]
  },
  {
   "cell_type": "code",
   "execution_count": null,
   "metadata": {},
   "outputs": [],
   "source": [
    "# Cálculo dos offsets\n",
    "psi7 = 2*(vet_X[4]*vet_X[1]**2 - vet_X[1]*vet_X[2]*vet_X[3] + vet_X[2]**2 + vet_X[0]*vet_X[3]**2 - 4*vet_X[0]*vet_X[4])\n",
    "\n",
    "bx = -(vet_X[3]**2*vet_X[5] + 2*vet_X[2]*vet_X[7] - 4*vet_X[4]*vet_X[5] - vet_X[1]*vet_X[3]*vet_X[7] + 2*vet_X[1]*vet_X[4]*vet_X[6] - vet_X[2]*vet_X[3]*vet_X[6])/psi7\n",
    "by = -(vet_X[2]**2*vet_X[6] + 2*vet_X[0]*vet_X[3]*vet_X[7] - 4*vet_X[0]*vet_X[4]*vet_X[6] - vet_X[1]*vet_X[2]*vet_X[7] + 2*vet_X[1]*vet_X[4]*vet_X[5] - vet_X[2]*vet_X[3]*vet_X[5])/psi7\n",
    "bz = -(vet_X[1]**2*vet_X[7] - 4*vet_X[0]*vet_X[7] + 2*vet_X[2]*vet_X[5] + 2*vet_X[0]*vet_X[3]*vet_X[6] - vet_X[1]*vet_X[2]*vet_X[6] - vet_X[1]*vet_X[3]*vet_X[5])/psi7"
   ]
  },
  {
   "cell_type": "code",
   "execution_count": null,
   "metadata": {},
   "outputs": [],
   "source": [
    "psi8 = -(vet_X[1]**2)*(vet_X[7]**2) + 4*vet_X[4]*vet_X[8]*(vet_X[1]**2) - 4*vet_X[8]*vet_X[1]*vet_X[2]*vet_X[3] + 2*vet_X[1]*vet_X[2]*vet_X[6]*vet_X[7] + 2*vet_X[1]*vet_X[3]*vet_X[5]*vet_X[7] - 4*vet_X[4]*vet_X[1]*vet_X[5]*vet_X[6] - (vet_X[2]**2)*(vet_X[6]**2) + 4*vet_X[8]*(vet_X[2]**2) + 2*vet_X[2]*vet_X[3]*vet_X[5]*vet_X[6] - 4*vet_X[2]*vet_X[5]*vet_X[7] - (vet_X[3]**2)*(vet_X[5]**2) + 4*vet_X[0]*vet_X[8]*(vet_X[3]**2) + 4*vet_X[4]*(vet_X[5]**2) + 4*vet_X[0]*vet_X[4]*(vet_X[6]**2) + 4*vet_X[0]*(vet_X[7]**2) - 16*vet_X[0]*vet_X[4]*vet_X[8] - 4*vet_X[0]*vet_X[3]*vet_X[6]*vet_X[7]\n",
    "divs = 2 * abs(vet_X[4])**3 * (vet_X[4]*(vet_X[1]**2) - vet_X[1]*vet_X[2]*vet_X[3] + (vet_X[2]**2) + vet_X[0]*(vet_X[3]**2) - 4*vet_X[0]*vet_X[4])\n",
    "\n",
    "sx = -(vet_X[4]**3) * ( psi8*(-vet_X[3]**2 + 4*vet_X[4]))**0.5/(divs)\n",
    "sy = -(vet_X[4]**3) * (psi8*(-vet_X[2]**2 + 4*vet_X[0]*vet_X[4]))**0.5/(divs)\n",
    "sz = -(vet_X[4]**3) * (psi8*(-vet_X[1]**2 + 4*vet_X[0]))**0.5/(divs)\n",
    "#cesarDeLondrina -> camelCase\n",
    "#CesarDeLondrina -> PascalCase\n",
    "#cesar_de_londrina -> snake_case\n",
    "#CESAR_DE_LONDRINA -> SCREAMING_SNAKE_CASE\n",
    "\n"
   ]
  },
  {
   "cell_type": "code",
   "execution_count": null,
   "metadata": {},
   "outputs": [],
   "source": [
    "rho = (2*vet_X[1]*vet_X[4] - vet_X[2]*vet_X[3])/(2*vet_X[4]**2*(-(vet_X[4]*vet_X[1]**2 - vet_X[1]*vet_X[2]*vet_X[3] + vet_X[2]**2 + vet_X[0]*vet_X[3]**2 - 4*vet_X[0]*vet_X[4])/(vet_X[4]**3))**0.5)\n",
    "rho = -np.arctan(rho)\n",
    "lambida = -np.arctan((vet_X[3]/vet_X[4]) * (-(vet_X[4]**2*(vet_X[4]*vet_X[1]**2 - vet_X[1]*vet_X[2]*vet_X[3] + vet_X[2]**2 - 4*vet_X[0]*vet_X[4])/(2*vet_X[1]**2*vet_X[3]**2*vet_X[4] - 4*vet_X[1]**2*vet_X[4]**2 - 4*vet_X[1]**2*vet_X[4]**2 - vet_X[1]*vet_X[2]*vet_X[3]**3 + vet_X[0]*vet_X[3]**4 - 8*vet_X[0]*vet_X[3]**2*vet_X[4] + 16*vet_X[0]*vet_X[4]**2)))**0.5)\n",
    "\n",
    "n1 = -vet_X[1]**2*vet_X[7]**2 + 4*vet_X[1]**2*vet_X[4]*vet_X[8] - 4*vet_X[1]*vet_X[2]*vet_X[3]*vet_X[8] + 2*vet_X[1]*vet_X[2]*vet_X[6]*vet_X[7] + 2*vet_X[1]*vet_X[3]*vet_X[5]*vet_X[7] - 4*vet_X[1]*vet_X[4]*vet_X[5]*vet_X[6] - vet_X[2]**2*vet_X[6]**2 + 2*vet_X[2]*vet_X[3]*vet_X[5]*vet_X[6] + 4*vet_X[2]**2*vet_X[8] - 4*vet_X[2]*vet_X[5]*vet_X[7] - vet_X[3]**2*vet_X[5]**2 + 4*vet_X[1]*vet_X[3]**2*vet_X[8] - 4*vet_X[0]*vet_X[3]*vet_X[6]*vet_X[7] + 4*vet_X[4]*vet_X[5]**2 + 4*vet_X[0]*vet_X[4]*vet_X[6]**2 + 4*vet_X[0]*vet_X[7]**2 - 16*vet_X[0]*vet_X[4]*vet_X[8]\n",
    "n2 = vet_X[1]**2*vet_X[4] - vet_X[1]*vet_X[2]*vet_X[3] + vet_X[2]**2 + vet_X[0]*vet_X[3]**2 - 4*vet_X[0]*vet_X[4]\n",
    "n3 = 2*vet_X[1]**2*vet_X[3]**2*vet_X[4] - 4*vet_X[1]**2*vet_X[4]**2 - vet_X[1]*vet_X[2]*vet_X[3]**3 + vet_X[2]**2*vet_X[3]**2 + vet_X[0]*vet_X[3]**2 - 8*vet_X[0]*vet_X[3]**2*vet_X[4] + 16*vet_X[0]*vet_X[4]**2\n",
    "n4 = 4*vet_X[4] - vet_X[3]**2\n",
    "n5 = 4*vet_X[0]*vet_X[4] - vet_X[2]**2\n",
    "n6 = 4*vet_X[0] - vet_X[1]**2\n",
    "\n",
    "phi = -np.arctan((abs(vet_X[4])*(n1*n5)**0.5*(2*vet_X[2] - vet_X[1]*vet_X[3])*((vet_X[4]*n4*n6)/n3)**0.5)/(vet_X[4]**2 * (-n2/vet_X[4])**0.5 * (n1*n6)**0.5 * (-(n2*n4)/n3)**0.5*(-(n4*n5)/(vet_X[4]*n2))**0.5))\n"
   ]
  },
  {
   "cell_type": "code",
   "execution_count": null,
   "metadata": {},
   "outputs": [],
   "source": [
    "p = np.array([sx, sy, sz, bx, by, bz, rho, phi, lambida])"
   ]
  },
  {
   "cell_type": "code",
   "execution_count": null,
   "metadata": {},
   "outputs": [
    {
     "name": "stdout",
     "output_type": "stream",
     "text": [
      "Os fatores de escala são:\n",
      "0.7609 Para sx\n",
      "1.0991 Para sy\n",
      "0.9106 Para sz\n"
     ]
    }
   ],
   "source": [
    "print(\"Os fatores de escala são:\")\n",
    "print(\"%.4f\" % p[0], \"Para sx\")\n",
    "print(\"%.4f\" % p[1], \"Para sy\")\n",
    "print(\"%.4f\" % p[2], \"Para sz\")"
   ]
  },
  {
   "cell_type": "code",
   "execution_count": null,
   "metadata": {},
   "outputs": [
    {
     "name": "stdout",
     "output_type": "stream",
     "text": [
      "Os offsets são:\n",
      "0.0997 Para x\n",
      "-0.0995 Para y\n",
      "0.0998 Para z\n"
     ]
    }
   ],
   "source": [
    "print(\"Os offsets são:\")\n",
    "print(\"%.4f\" % p[3], \"Para x\")\n",
    "print(\"%.4f\" % p[4], \"Para y\")\n",
    "print(\"%.4f\" % p[5], \"Para z\")"
   ]
  },
  {
   "cell_type": "code",
   "execution_count": null,
   "metadata": {},
   "outputs": [
    {
     "name": "stdout",
     "output_type": "stream",
     "text": [
      "Os ângulos são:\n",
      "0.0429 Para rho\n",
      "-0.0217 Para phi\n",
      "-0.0352 Para lambda\n"
     ]
    }
   ],
   "source": [
    "print(\"Os ângulos são:\")\n",
    "print(\"%.4f\" % p[6], \"Para rho\")\n",
    "print(\"%.4f\" % p[7], \"Para phi\")\n",
    "print(\"%.4f\" % p[8], \"Para lambda\")"
   ]
  }
 ],
 "metadata": {
  "kernelspec": {
   "display_name": "Python 3",
   "language": "python",
   "name": "python3"
  },
  "language_info": {
   "codemirror_mode": {
    "name": "ipython",
    "version": 3
   },
   "file_extension": ".py",
   "mimetype": "text/x-python",
   "name": "python",
   "nbconvert_exporter": "python",
   "pygments_lexer": "ipython3",
   "version": "3.12.4"
  }
 },
 "nbformat": 4,
 "nbformat_minor": 2
}
